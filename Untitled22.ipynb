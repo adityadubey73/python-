{
  "nbformat": 4,
  "nbformat_minor": 0,
  "metadata": {
    "colab": {
      "provenance": []
    },
    "kernelspec": {
      "name": "python3",
      "display_name": "Python 3"
    },
    "language_info": {
      "name": "python"
    }
  },
  "cells": [
    {
      "cell_type": "code",
      "execution_count": null,
      "metadata": {
        "id": "3ElXxREESCxV"
      },
      "outputs": [],
      "source": [
        "# what is"
      ]
    },
    {
      "cell_type": "markdown",
      "source": [
        "# what is python"
      ],
      "metadata": {
        "id": "q9jKHkLTTkT6"
      }
    },
    {
      "cell_type": "markdown",
      "source": [
        "python is programming language"
      ],
      "metadata": {
        "id": "dyamKLk_Tns5"
      }
    },
    {
      "cell_type": "markdown",
      "source": [],
      "metadata": {
        "id": "JdprAZYCSD7B"
      }
    }
  ]
}